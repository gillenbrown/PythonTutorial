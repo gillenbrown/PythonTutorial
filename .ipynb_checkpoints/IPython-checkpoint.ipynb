{
 "metadata": {
  "name": "",
  "signature": "sha256:ae61c7cb8bf48f81af38d108a402078034343e27d33f9e263ca9a37a91d9c731"
 },
 "nbformat": 3,
 "nbformat_minor": 0,
 "worksheets": [
  {
   "cells": [
    {
     "cell_type": "code",
     "collapsed": false,
     "input": [
      "test = 4"
     ],
     "language": "python",
     "metadata": {},
     "outputs": [],
     "prompt_number": 1
    },
    {
     "cell_type": "code",
     "collapsed": false,
     "input": [],
     "language": "python",
     "metadata": {},
     "outputs": []
    }
   ],
   "metadata": {}
  }
 ]
}