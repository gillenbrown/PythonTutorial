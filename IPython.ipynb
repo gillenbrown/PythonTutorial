{
 "metadata": {
  "name": "",
  "signature": "sha256:c2649c14887f36fabf096c423cbc32a47e32614e785d5ef70b5b58439d11f780"
 },
 "nbformat": 3,
 "nbformat_minor": 0,
 "worksheets": [
  {
   "cells": [
    {
     "cell_type": "markdown",
     "metadata": {},
     "source": [
      "# IPython Tutorial\n",
      "\n",
      "This will be an introduction to using IPython notebooks. [IPython notebooks](http://ipython.org/notebook.html) are a way of combining text, code, and images/figures that is very useful for quick computations, testing code, and developing plots that runs in a web brower. It can make things very compact, since it is possible to combine code, figures, and text about the results of the code all in one file that can be either run interactively by others or viewed online via [nbviewer](http://nbviewer.ipython.org/).\n",
      "\n",
      "Here are some key features that make it useful:\n",
      "* Interactive code that remembers history. Chunks of code can be written and run whenever, and you don't need to rewrite snippets to rerun them. This makes testing very easy and efficient.\n",
      "* Inline matplotlib plots. The plots can be displayed right in the web browser. Changes are very easy to make, since we just change the code and see our results right there. \n",
      "* MORE\n",
      "\n",
      "This tutorial will cover the installation and startup of ipython notebooks, as well as their usage. By the end, you should be able to make good use of IPython notebooks yourself.\n",
      "\n",
      "## Installing IPython \n",
      "\n",
      "If you already have `pip` installed (and you should, it's awesome!), IPython notebook installation is very easy. Just call `pip install \"ipython[notebook]\"` from the command line. This will also install any dependencies you don't have. \n",
      "\n",
      "If you have something like Anaconda or Canopy, there is a good change you already have IPython notebooks installed. You might want to make sure it is updated to the latest version, though.\n",
      "\n",
      "Otherwise, follow the instructions [here](notebookshttp://ipython.org/install.html). \n",
      "\n",
      "## Starting IPython notebooks\n",
      "\n",
      "From a terminal window, simply call `ipython notebook`. It will launch your browser, and display the file structure of the folder from which you typed the command. Navigate to wherever you want to make the notebook file, then click new notebook at the top right corner. Your window should look something like this:\n",
      "\n",
      "![Emtpy ipython notebook](images/header.png)\n",
      "\n",
      "If it does, you are all set!\n",
      "\n",
      "### This tutorial is an IPython notebook!\n",
      "\n",
      "IPython notebooks can be viewed either as a static html page (via [nbviewer](http://nbviewer.ipython.org/)), or by interactively running them. If you are viewing this in nbviewer, try getting this tutorial to run on your machine. Go to the [GitHub page for this tutorial](https://github.com/gillenbrown/PythonTutorial) and sync it to your machine. If you have GitHub you can clone it to your desktop, or just download a .zip. Buttons for both of these options are in the bottom right of the page.\n",
      "\n",
      "Then open an IPython notebook instance, and click on this file (IPython.ipnb) to open it. The top of the window should look something like this:\n",
      "\n",
      "![full IPython notebook](images/full_header.png)\n",
      "\n",
      "\n",
      "If it does, then we can get to the fun stuff!\n",
      "\n",
      "## Using IPython notebooks\n",
      "\n",
      "IPython notebooks are made up of what are called cells. Each cell can either be text (formatted with Markdown) or code. There can be multiple lines of code or text in each cell. To either execute the code or turn the text into display mode, press `shift+enter` . Try double clicking on this text to see the formatting for this cell, then press `shift+enter` to turn it back into display mode. To change type of each cell (text vs code), select the cell and click `Cell -> Cell Type` in the top menu and choose the type you want.\n",
      "\n",
      "Of course, we can also run code. This code runs interactively. Press `shift+enter` to run the extremely difficult calculation in the cell below."
     ]
    },
    {
     "cell_type": "code",
     "collapsed": false,
     "input": [
      "2+2"
     ],
     "language": "python",
     "metadata": {},
     "outputs": [
      {
       "metadata": {},
       "output_type": "pyout",
       "prompt_number": 9,
       "text": [
        "4"
       ]
      }
     ],
     "prompt_number": 9
    },
    {
     "cell_type": "markdown",
     "metadata": {},
     "source": [
      "You will see that 4 was returned in the output. We can also do more complicated stuff, including more than one line of code in the same cell. Remember that `enter` adds new lines to each cell, but `shift+enter` runs the code in the cell."
     ]
    },
    {
     "cell_type": "code",
     "collapsed": false,
     "input": [
      "x = 0\n",
      "for i in range(9):\n",
      "    print i\n",
      "    x += i\n",
      "\"sum: {}\".format(x)"
     ],
     "language": "python",
     "metadata": {},
     "outputs": [
      {
       "output_type": "stream",
       "stream": "stdout",
       "text": [
        "0\n",
        "1\n",
        "2\n",
        "3\n",
        "4\n",
        "5\n",
        "6\n",
        "7\n",
        "8\n"
       ]
      },
      {
       "metadata": {},
       "output_type": "pyout",
       "prompt_number": 19,
       "text": [
        "'sum: 36'"
       ]
      }
     ],
     "prompt_number": 19
    },
    {
     "cell_type": "markdown",
     "metadata": {},
     "source": [
      "What really makes IPython notebooks shine is their ability to rerun cells. Try changing the range of the loop above, and re-running the cell. `x` changes each time, and any changes in `x` are reflected in any later calculations we wanted to do with `x`. This is so useful because we can make slight changes to our code, and see the changes. The above example isn't the best example of that, but it can be extremely useful when designing plots, for example.\n",
      "\n",
      "EXPLAIN BETTER HERE ABOUT HOW THIS IS JUST LIKE RUNNING REGULAR IPYTHON, IN THAT EACH RERUN OF A CELL IS LIKE ADDING MORE LINES TO A CODE. THE PREVIOUS STUFF NEVER GETS DELETED, JUST MAY BE OVERWRITTEN BY THE NEW CODE RUN. THIS MAY BE OBVIOUS, BUT IT WOULDN'T HURT TO POINT IT OUT.\n",
      "\n",
      "The number to the left of each cell indicates in which order that cell was run. Cell `1` was the first ran, Cell `2` second, etc. If cells are run multiple times "
     ]
    },
    {
     "cell_type": "code",
     "collapsed": false,
     "input": [],
     "language": "python",
     "metadata": {},
     "outputs": []
    },
    {
     "cell_type": "code",
     "collapsed": false,
     "input": [],
     "language": "python",
     "metadata": {},
     "outputs": []
    },
    {
     "cell_type": "code",
     "collapsed": false,
     "input": [],
     "language": "python",
     "metadata": {},
     "outputs": []
    },
    {
     "cell_type": "code",
     "collapsed": false,
     "input": [],
     "language": "python",
     "metadata": {},
     "outputs": []
    },
    {
     "cell_type": "code",
     "collapsed": false,
     "input": [],
     "language": "python",
     "metadata": {},
     "outputs": []
    },
    {
     "cell_type": "markdown",
     "metadata": {},
     "source": [
      "Things to mention somewhere later:\n",
      "* LaTeX style math!\n",
      "\n",
      "$ \\int^4_2 x dx $\n",
      "\n",
      "$ \\nabla \\cdot \\vec{E} = \\frac{\\rho}{\\epsilon_0} $"
     ]
    }
   ],
   "metadata": {}
  }
 ]
}