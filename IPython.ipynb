{
 "cells": [
  {
   "cell_type": "markdown",
   "metadata": {},
   "source": [
    "# IPython Tutorial\n",
    "\n",
    "This will be an introduction to using IPython notebooks. [IPython notebooks](http://ipython.org/notebook.html) are a way of combining text, code, and images/figures that is very useful for quick computations, testing code, and developing plots that runs in a web brower. It can make things very compact, since it is possible to combine code, figures, and text about the results of the code all in one file that can be either run interactively by others or viewed online via [nbviewer](http://nbviewer.ipython.org/).\n",
    "\n",
    "Here are some key features that make it useful:\n",
    "* Interactive code that remembers history. Chunks of code can be written and run whenever, and you don't need to rewrite snippets to rerun them. This makes testing very easy and efficient.\n",
    "* Inline matplotlib plots. The plots can be displayed right in the web browser. Changes are very easy to make, since we just change the code and see our results right there. \n",
    "* MORE\n",
    "\n",
    "This tutorial will cover the installation and startup of ipython notebooks, as well as their usage. By the end, you should be able to make good use of IPython notebooks yourself.\n",
    "\n",
    "## Installing IPython \n",
    "\n",
    "If you already have `pip` installed (and you should, it's awesome!), IPython notebook installation is very easy. Just call `pip install \"ipython[notebook]\"` from the command line. This will also install any dependencies you don't have. \n",
    "\n",
    "If you have something like Anaconda or Canopy, there is a good change you already have IPython notebooks installed. You might want to make sure it is updated to the latest version, though.\n",
    "\n",
    "[Ureka](http://ssb.stsci.edu/ureka/) also includes IPython notebooks. CAN SOMEOME COMMENT ON THIS? I DON'T REALLY KNOW WHAT UREKA IS.\n",
    "\n",
    "Otherwise, follow the instructions [here](notebookshttp://ipython.org/install.html). \n",
    "\n",
    "## Starting IPython notebooks\n",
    "\n",
    "From a terminal window, simply call `ipython notebook`. It will launch your browser, and display the file structure of the folder from which you typed the command. Navigate to wherever you want to make the notebook file, then click new notebook at the top right corner. Your window should look something like this:\n",
    "\n",
    "![Emtpy ipython notebook](images/header.png)\n",
    "\n",
    "If it does, you are all set!\n",
    "\n",
    "### This tutorial is an IPython notebook!\n",
    "\n",
    "IPython notebooks can be viewed either as a static html page (via [nbviewer](http://nbviewer.ipython.org/)), or by interactively running them. If you are viewing this in nbviewer, try getting this tutorial to run on your machine. Go to the [GitHub page for this tutorial](https://github.com/gillenbrown/PythonTutorial) and sync it to your machine. If you have GitHub you can clone it to your desktop, or just download a .zip. Buttons for both of these options are in the bottom right of the page.\n",
    "\n",
    "Then open an IPython notebook instance, and click on this file (IPython.ipnb) to open it. It should look a lot like the webpage, but be editable.\n",
    "\n",
    "If it does, then we can get to the fun stuff!\n",
    "\n",
    "## Using IPython notebooks\n",
    "\n",
    "IPython notebooks are made up of what are called cells. Each cell can either be text (formatted with Markdown) or code. There can be multiple lines of code or text in each cell. To either execute the code or turn the text into display mode, press `shift+enter` . Try double clicking on this text to see the formatting for this cell, then press `shift+enter` to turn it back into display mode. To change type of each cell (text vs code), select the drop down to the right of the buttons in the toolbar and choose the type you want. The only two you will really use are code (obviously), and the Markdown choice, which lets you input text. This cell is a Markdown cell, for example.\n",
    "\n",
    "Of course, we can also run code. This code runs interactively. Press `shift+enter` to run the extremely difficult calculation in the cell below."
   ]
  },
  {
   "cell_type": "code",
   "execution_count": 1,
   "metadata": {
    "collapsed": false
   },
   "outputs": [
    {
     "data": {
      "text/plain": [
       "4"
      ]
     },
     "execution_count": 1,
     "metadata": {},
     "output_type": "execute_result"
    }
   ],
   "source": [
    "2+2"
   ]
  },
  {
   "cell_type": "markdown",
   "metadata": {},
   "source": [
    "You will see that 4 was returned in the output. We can also do more complicated stuff, including more than one line of code in the same cell. Remember that `enter` adds new lines to each cell, but `shift+enter` runs the code in the cell."
   ]
  },
  {
   "cell_type": "code",
   "execution_count": 2,
   "metadata": {
    "collapsed": false
   },
   "outputs": [
    {
     "name": "stdout",
     "output_type": "stream",
     "text": [
      "0\n",
      "1\n",
      "2\n",
      "3\n",
      "4\n"
     ]
    },
    {
     "data": {
      "text/plain": [
       "'sum: 10'"
      ]
     },
     "execution_count": 2,
     "metadata": {},
     "output_type": "execute_result"
    }
   ],
   "source": [
    "x = 0\n",
    "for i in range(5):\n",
    "    print i\n",
    "    x += i\n",
    "\"sum: {}\".format(x)"
   ]
  },
  {
   "cell_type": "markdown",
   "metadata": {},
   "source": [
    "What really makes IPython notebooks shine is their ability to rerun cells. Try changing the range of the loop above, and re-running the cell. `x` changes each time, and any changes in `x` are reflected in any later calculations we wanted to do with `x`. This is so useful because we can make slight changes to our code, and see the changes. The above example isn't the best example of that, but it can be extremely useful when designing plots, for example.\n",
    "\n",
    "EXPLAIN BETTER HERE ABOUT HOW THIS IS JUST LIKE RUNNING REGULAR IPYTHON, IN THAT EACH RERUN OF A CELL IS LIKE ADDING MORE LINES TO A CODE. THE PREVIOUS STUFF NEVER GETS DELETED, JUST MAY BE OVERWRITTEN BY THE NEW CODE RUN. THIS MAY BE OBVIOUS, BUT IT WOULDN'T HURT TO POINT IT OUT.\n",
    "\n",
    "The number to the left of each cell indicates in which order that cell was run. Cell `1` was the first ran, Cell `2` second, etc. ADD MORE HERE?\n",
    "\n",
    "## Plotting in IPython Notebooks\n",
    "\n",
    "IPython notebooks are great for plotting, since we can make quick changes, then rerun the plot immediately to see our changes, rather than having to rerun our entire script. Another great feature is the ability to show plots inline, right in the notebook. This lets you see what the plots look like easily, allowing you to quickly make any needed changes.\n",
    "\n",
    "To do this, we need to use the command `%matplotlib inline`. This is called a magic command, and is basically a shortcut to more complicated stuff. EXPLAIN THAT BETTER. There are many other magic commands in IPython. We'll also do the normal import of matplotlib while we're at it."
   ]
  },
  {
   "cell_type": "code",
   "execution_count": 3,
   "metadata": {
    "collapsed": false
   },
   "outputs": [],
   "source": [
    "%matplotlib inline\n",
    "import matplotlib.pyplot as plt\n",
    "import numpy as np"
   ]
  },
  {
   "cell_type": "markdown",
   "metadata": {
    "collapsed": false
   },
   "source": [
    "First let's make some simple data. The plot commands we will use take lists of x and y values, so we will make some lists to put in there. (We'll use numpy to make our x values since arange can get decimal values, unlike the default range. np.arange takes parameters of start, stop, and spacing)"
   ]
  },
  {
   "cell_type": "code",
   "execution_count": 4,
   "metadata": {
    "collapsed": false
   },
   "outputs": [],
   "source": [
    "xs = np.arange(0, 5, 0.5)\n",
    "y1 = [x*3 for x in xs]\n",
    "y2 = [x**2 for x in xs]\n",
    "y3 = [x for x in xs]"
   ]
  },
  {
   "cell_type": "markdown",
   "metadata": {
    "collapsed": false
   },
   "source": [
    "Now lets plot it. Remember the plotting function takes lists of x and y values."
   ]
  },
  {
   "cell_type": "code",
   "execution_count": 5,
   "metadata": {
    "collapsed": false
   },
   "outputs": [
    {
     "data": {
      "text/plain": [
       "[<matplotlib.lines.Line2D at 0x111a42650>]"
      ]
     },
     "execution_count": 5,
     "metadata": {},
     "output_type": "execute_result"
    },
    {
     "data": {
      "image/png": "[encoded data removed]",
      "text/plain": [
       "<matplotlib.figure.Figure at 0x111986b50>"
      ]
     },
     "metadata": {},
     "output_type": "display_data"
    }
   ],
   "source": [
    "plt.plot(xs, y1)\n",
    "plt.plot(xs, y2)\n",
    "plt.plot(xs, y3)"
   ]
  },
  {
   "cell_type": "markdown",
   "metadata": {},
   "source": [
    "That `%matplotlib inline` command we did made the plot appear right below the code as we run it. \n",
    "\n",
    "This was a simple plot, and there are some many more detailed things we can do with matplotlib. The plot function can take many keyword parameters that specify all kinds of stuff about the line to be plotted. Here is a plot with a few of those more detailed options used."
   ]
  },
  {
   "cell_type": "code",
   "execution_count": 6,
   "metadata": {
    "collapsed": false
   },
   "outputs": [
    {
     "data": {
      "text/plain": [
       "<matplotlib.legend.Legend at 0x111adfc10>"
      ]
     },
     "execution_count": 6,
     "metadata": {},
     "output_type": "execute_result"
    },
    {
     "data": {
      "image/png": "[encoded data removed]",
      "text/plain": [
       "<matplotlib.figure.Figure at 0x11198fd10>"
      ]
     },
     "metadata": {},
     "output_type": "display_data"
    }
   ],
   "source": [
    "plt.plot(xs, y1, color=\"r\", linestyle=\":\", label=\"y1\")\n",
    "plt.plot(xs, y2, color=\"#0088CC\", linestyle=\"--\", linewidth=4, label=\"y2\")\n",
    "plt.plot(xs, y3, color=(0.2, 0.2, 0.2), marker=\"*\", markersize=15, alpha=0.5, label=\"y3\")\n",
    "plt.legend(loc=0)"
   ]
  },
  {
   "cell_type": "markdown",
   "metadata": {
    "collapsed": true
   },
   "source": [
    "This obviously isn't a plot designed to look good, but rather one to explain a lot of the parameters matplotlib can take. The [documentation for the matplotlib plot function](http://matplotlib.org/api/pyplot_api.html#matplotlib.pyplot.plot) has desciptions for all the possible things, so glance through that if you are interested.\n",
    "\n",
    "* `color`: color of the points. You can specify colors directly, like `r` for red, `g` for green, `k` for black, etc. Matplotlib also knows the names for many colors, so if you ever need to plot something in chartreuse matplotlib has you covered. I'm serious, try changing one of the colors to `chartreuse`, and it will work. You can also pass in hex values, like the second line, or tuples of rgb values like the third.\n",
    "* `linestyle`: This describes the format of the lines. The defulat is solid `-`, but there is also `--` for dashed, `:` for dotted, and `-.` for dot-dash.\n",
    "* `label`: This tells what the title of each line should be in the legend.\n",
    "* `linewidth`: pretty self explanatory. The larger the number, the thicker the line.\n",
    "* `marker`: If you want to add individual points on the line, this can be used to specify the shape of the markers. There are a [bazillion options](http://matplotlib.org/api/markers_api.html#module-matplotlib.markers).\n",
    "* `markersize`: again self explanatory. The larger the markersize, the larger the marker will be.\n",
    "* `alpha`: This sets the transparency of the points or line. 1 is opaque, 0 is invisible. You can see how the gray stars are transparent, and you can see the blue line beneath. This is especially useful in scatter plots when you have lots of overlapping points. \n",
    "\n",
    "The legend is added with the simple `plt.legend()` call. The `loc=0` tells matplotlib to find the best location to put the legend. You can specify other things to put the legend in a specific place, but `loc=0` is often the most useful. [Here is the `legend()` documentation](http://matplotlib.org/api/pyplot_api.html#matplotlib.pyplot.legend), with a list of all the places you can put a legend. There are also a ton of other parameters that you can use to make a prettier legend.\n",
    "\n",
    "These are just some of the parameters. To make nice looking plots, you might need to take some time to really fine tune things. Try changing some of the parameters above, then rerun the plot to really see how your changes affect the plot. Remember that when you rerun the cell with the plotting code, you don't need to rerun the code that we used to define our lists. Things done in earlier code stay in memory. This is why IPython notebooks are so awesome. If you have to do a lot of work to do some data analysis, you don't need to do that every time you want to remake your plot.\n",
    "\n",
    "## Other types of  matplotlib plots\n",
    "\n",
    "Things to eventually add:\n",
    "* histogram\n",
    "* errorbars\n",
    "* scatter\n",
    "* colorbars\n",
    "* log plots\n",
    "* text/annotations\n",
    "* titles, labels, etc\n",
    "* setting x/y limits\n",
    "* saving plots"
   ]
  },
  {
   "cell_type": "code",
   "execution_count": null,
   "metadata": {
    "collapsed": true
   },
   "outputs": [],
   "source": []
  },
  {
   "cell_type": "markdown",
   "metadata": {
    "collapsed": true
   },
   "source": [
    "## Exiting IPython\n",
    "\n",
    "IPython notebooks autosave every now and then, but you'll want to hit the save button in the toolbar before leaving. You can also press `⌘s` to save. To change the name of the notebook, click on the name of the notebook at the top of the open page. Whenever you are done with IPython, close all the tabs containing your notebooks. Then go to the terminal in which you launched IPython notebook. The terminal will show a log of what IPython has been doing. Press `control-c` (not `⌘c`). It will ask you to confirm your exit. Enter y to do so."
   ]
  },
  {
   "cell_type": "code",
   "execution_count": null,
   "metadata": {
    "collapsed": true
   },
   "outputs": [],
   "source": []
  },
  {
   "cell_type": "markdown",
   "metadata": {},
   "source": [
    "Things to mention somewhere later:\n",
    "\n",
    "* LaTeX style math!\n",
    "\n",
    "$ \\int^4_2 x dx  =  \\frac{1}{2} x^2 \\bigg|^4_2 = \\frac{1}{2} \\left[ 4^2 - 2^2 \\right] = 6$\n",
    "\n",
    "$ e^{i \\theta} = \\cos (\\theta) + i \\sin(\\theta) $\n",
    "\n",
    "$ \\nabla \\cdot \\vec{E} = \\frac{\\rho}{\\epsilon_0} $\n",
    "\n",
    "$ E = mc^2 $"
   ]
  },
  {
   "cell_type": "code",
   "execution_count": null,
   "metadata": {
    "collapsed": true
   },
   "outputs": [],
   "source": []
  }
 ],
 "metadata": {
  "kernelspec": {
   "display_name": "Python 2",
   "language": "python",
   "name": "python2"
  },
  "language_info": {
   "codemirror_mode": {
    "name": "ipython",
    "version": 2
   },
   "file_extension": ".py",
   "mimetype": "text/x-python",
   "name": "python",
   "nbconvert_exporter": "python",
   "pygments_lexer": "ipython2",
   "version": "2.7.6"
  }
 },
 "nbformat": 4,
 "nbformat_minor": 0
}
