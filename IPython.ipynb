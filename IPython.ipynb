{
 "cells": [
  {
   "cell_type": "markdown",
   "metadata": {},
   "source": [
    "# IPython Tutorial\n",
    "\n",
    "This will be an introduction to using IPython notebooks. [IPython notebooks](http://ipython.org/notebook.html) are a way of combining text, code, and images/figures that is very useful for quick computations, testing code, and developing plots that runs in a web brower. It can make things very compact, since it is possible to combine code, figures, and text about the results of the code all in one file that can be either run interactively by others or viewed online via [nbviewer](http://nbviewer.ipython.org/).\n",
    "\n",
    "Here are some key features that make it useful:\n",
    "* Interactive code that remembers history. Chunks of code can be written and run whenever, and you don't need to rewrite snippets to rerun them. This makes testing very easy and efficient.\n",
    "* Inline matplotlib plots. The plots can be displayed right in the web browser. Changes are very easy to make, since we just change the code and see our results right there. \n",
    "* MORE\n",
    "\n",
    "This tutorial will cover the installation and startup of ipython notebooks, as well as their usage. By the end, you should be able to make good use of IPython notebooks yourself.\n",
    "\n",
    "## Installing IPython \n",
    "\n",
    "If you already have `pip` installed (and you should, it's awesome!), IPython notebook installation is very easy. Just call `pip install \"ipython[notebook]\"` from the command line. This will also install any dependencies you don't have. \n",
    "\n",
    "If you have something like Anaconda or Canopy, there is a good change you already have IPython notebooks installed. You might want to make sure it is updated to the latest version, though.\n",
    "\n",
    "[Ureka](http://ssb.stsci.edu/ureka/) also includes IPython notebooks. CAN SOMEOME COMMENT ON THIS? I DON'T REALLY KNOW WHAT UREKA IS.\n",
    "\n",
    "Otherwise, follow the instructions [here](notebookshttp://ipython.org/install.html). \n",
    "\n",
    "## Starting IPython notebooks\n",
    "\n",
    "From a terminal window, simply call `ipython notebook`. It will launch your browser, and display the file structure of the folder from which you typed the command. Navigate to wherever you want to make the notebook file, then click new notebook at the top right corner. Your window should look something like this:\n",
    "\n",
    "![Emtpy ipython notebook](images/header.png)\n",
    "\n",
    "If it does, you are all set!\n",
    "\n",
    "### This tutorial is an IPython notebook!\n",
    "\n",
    "IPython notebooks can be viewed either as a static html page (via [nbviewer](http://nbviewer.ipython.org/)), or by interactively running them. If you are viewing this in nbviewer, try getting this tutorial to run on your machine. Go to the [GitHub page for this tutorial](https://github.com/gillenbrown/PythonTutorial) and sync it to your machine. If you have GitHub you can clone it to your desktop, or just download a .zip. Buttons for both of these options are in the bottom right of the page.\n",
    "\n",
    "Then open an IPython notebook instance, and click on this file (IPython.ipnb) to open it. It should look a lot like the webpage, but be editable.\n",
    "\n",
    "If it does, then we can get to the fun stuff!\n",
    "\n",
    "## Using IPython notebooks\n",
    "\n",
    "IPython notebooks are made up of what are called cells. Each cell can either be text (formatted with Markdown) or code. There can be multiple lines of code or text in each cell. To either execute the code or turn the text into display mode, press `shift+enter` . Try double clicking on this text to see the formatting for this cell, then press `shift+enter` to turn it back into display mode. To change type of each cell (text vs code), select the drop down to the right of the buttons in the toolbar and choose the type you want. The only two you will really use are code (obviously), and the Markdown choice, which lets you input text. This cell is a Markdown cell, for example.\n",
    "\n",
    "Of course, we can also run code. This code runs interactively. Press `shift+enter` to run the extremely difficult calculation in the cell below."
   ]
  },
  {
   "cell_type": "code",
   "execution_count": 1,
   "metadata": {
    "collapsed": false
   },
   "outputs": [
    {
     "data": {
      "text/plain": [
       "4"
      ]
     },
     "execution_count": 1,
     "metadata": {},
     "output_type": "execute_result"
    }
   ],
   "source": [
    "2+2"
   ]
  },
  {
   "cell_type": "markdown",
   "metadata": {},
   "source": [
    "You will see that 4 was returned in the output. We can also do more complicated stuff, including more than one line of code in the same cell. Remember that `enter` adds new lines to each cell, but `shift+enter` runs the code in the cell."
   ]
  },
  {
   "cell_type": "code",
   "execution_count": 2,
   "metadata": {
    "collapsed": false
   },
   "outputs": [
    {
     "name": "stdout",
     "output_type": "stream",
     "text": [
      "0\n",
      "1\n",
      "2\n",
      "3\n",
      "4\n"
     ]
    },
    {
     "data": {
      "text/plain": [
       "'sum: 10'"
      ]
     },
     "execution_count": 2,
     "metadata": {},
     "output_type": "execute_result"
    }
   ],
   "source": [
    "x = 0\n",
    "for i in range(5):\n",
    "    print i\n",
    "    x += i\n",
    "\"sum: {}\".format(x)"
   ]
  },
  {
   "cell_type": "markdown",
   "metadata": {},
   "source": [
    "What really makes IPython notebooks shine is their ability to rerun cells. Try changing the range of the loop above, and re-running the cell. `x` changes each time, and any changes in `x` are reflected in any later calculations we wanted to do with `x`. This is so useful because we can make slight changes to our code, and see the changes. The above example isn't the best example of that, but it can be extremely useful when designing plots, for example.\n",
    "\n",
    "EXPLAIN BETTER HERE ABOUT HOW THIS IS JUST LIKE RUNNING REGULAR IPYTHON, IN THAT EACH RERUN OF A CELL IS LIKE ADDING MORE LINES TO A CODE. THE PREVIOUS STUFF NEVER GETS DELETED, JUST MAY BE OVERWRITTEN BY THE NEW CODE RUN. THIS MAY BE OBVIOUS, BUT IT WOULDN'T HURT TO POINT IT OUT.\n",
    "\n",
    "The number to the left of each cell indicates in which order that cell was run. Cell `1` was the first ran, Cell `2` second, etc. ADD MORE HERE?\n",
    "\n",
    "## Plotting in IPython Notebooks\n",
    "\n",
    "IPython notebooks are great for plotting, since we can make quick changes, then rerun the plot immediately to see our changes, rather than having to rerun our entire script. Another great feature is the ability to show plots inline, right in the notebook. This lets you see what the plots look like easily, allowing you to quickly make any needed changes.\n",
    "\n",
    "To do this, we need to use the command `%matplotlib inline`. This is called a magic command, and is basically a shortcut to more complicated stuff. EXPLAIN THAT BETTER. There are many other magic commands in IPython. We'll also do the normal import of matplotlib while we're at it."
   ]
  },
  {
   "cell_type": "code",
   "execution_count": 3,
   "metadata": {
    "collapsed": false
   },
   "outputs": [],
   "source": [
    "%matplotlib inline\n",
    "import matplotlib.pyplot as plt\n",
    "import numpy as np"
   ]
  },
  {
   "cell_type": "markdown",
   "metadata": {
    "collapsed": false
   },
   "source": [
    "First let's make some simple data. The plot commands we will use take lists of x and y values, so we will make some lists to put in there. (We'll use numpy to make our x values since arange can get decimal values, unlike the default range. np.arange takes parameters of start, stop, and spacing)"
   ]
  },
  {
   "cell_type": "code",
   "execution_count": 4,
   "metadata": {
    "collapsed": false
   },
   "outputs": [],
   "source": [
    "xs = np.arange(0, 5, 0.5)\n",
    "y1 = [x*3 for x in xs]\n",
    "y2 = [x**2 for x in xs]\n",
    "y3 = [x for x in xs]"
   ]
  },
  {
   "cell_type": "markdown",
   "metadata": {
    "collapsed": false
   },
   "source": [
    "Now lets plot it. Remember the plotting function takes lists of x and y values."
   ]
  },
  {
   "cell_type": "code",
   "execution_count": 5,
   "metadata": {
    "collapsed": false
   },
   "outputs": [
    {
     "data": {
      "text/plain": [
       "[<matplotlib.lines.Line2D at 0x10c920610>]"
      ]
     },
     "execution_count": 5,
     "metadata": {},
     "output_type": "execute_result"
    },
    {
     "data": {
      "image/png": "[encoded data removed]",
      "text/plain": [
       "<matplotlib.figure.Figure at 0x10c864ad0>"
      ]
     },
     "metadata": {},
     "output_type": "display_data"
    }
   ],
   "source": [
    "plt.plot(xs, y1)\n",
    "plt.plot(xs, y2)\n",
    "plt.plot(xs, y3)"
   ]
  },
  {
   "cell_type": "markdown",
   "metadata": {},
   "source": [
    "That `%matplotlib inline` command we did made the plot appear right below the code as we run it. \n",
    "\n",
    "This is obviously a super simple plot, but the idea of getting plots to appear inline in a very useful one that can be used for more complicated plots.\n",
    "\n",
    "## LaTeX style math\n",
    "\n",
    "IPython notebooks allow LaTeX style math (formatted with MathJax) in Markdown cells, simply by surrounding the math in `$`. For example, `$4x^2$` turns into $4x^2$. Here are some more examples. Double click on the cell to see the syntax used to make them.\n",
    "\n",
    "$ \\int^4_2 x dx  =  \\frac{1}{2} x^2 \\bigg|^4_2 = \\frac{1}{2} \\left[ 4^2 - 2^2 \\right] = 6$\n",
    "\n",
    "$ e^{i \\theta} = \\cos (\\theta) + i \\sin(\\theta) $\n",
    "\n",
    "$ \\nabla \\cdot \\vec{E} = \\frac{\\rho}{\\epsilon_0} $\n",
    "\n",
    "$ E = mc^2 $\n",
    "\n",
    "## Converting to python file \n",
    "\n",
    "IPython notebooks are very useful for testing and quickly developing code. You can run the cell, make changes, run it again, makre more changes, etc, until the code works the way you want it to. You may want to save that code as a regular python file, though, so you can run it by itself, rather than having to open the notebook each time. This is easy to do. From the `File` menu, mouseover `Download as`, and it will give you a bunch of options. If you download as `.py`, you will have an executable python file. Any Markdown cells will be turned to comments. Of course, since regular python files don't have cells, all the code will be in one file, and will all run at once if you run the file.\n",
    "\n",
    "## Exiting IPython\n",
    "\n",
    "IPython notebooks autosave every now and then, but you'll want to hit the save button in the toolbar before leaving. You can also press `⌘s` to save. To change the name of the notebook, click on the name of the notebook at the top of the open page. Whenever you are done with IPython, close all the tabs containing your notebooks. Then go to the terminal in which you launched IPython notebook. The terminal will show a log of what IPython has been doing. Press `control-c` (not `⌘c`). It will ask you to confirm your exit. Enter y to do so.\n",
    "\n",
    "## Other cool stuff\n",
    "\n",
    "There are a ton of things you can do with IPython notebooks that aren't covered here. Here are links explaining some of the other stuff.\n",
    "\n",
    "* [Displaying things in a notebook, such as YouTube videos, images, real LaTeX, etc.](http://nbviewer.ipython.org/github/ipython/ipython/blob/2.x/examples/Notebook/Display%20System.ipynb)\n",
    "* [A list of a bazillion interesting IPython notebooks.](https://github.com/ipython/ipython/wiki/A-gallery-of-interesting-IPython-Notebooks#introductory-tutorials)\n",
    "* [An astro paper](http://arxiv.org/abs/1303.2690) that has reproducible data analysis via [an IPython notebook](http://nbviewer.ipython.org/github/forero/LG_Kinematics/blob/master/code/main_analysis.ipynb). \n",
    "\n",
    "If there are any other cool things about IPython notebooks to add here, let me know.\n",
    "\n",
    "\n",
    "\n",
    "\n",
    "\n",
    "\n"
   ]
  }
 ],
 "metadata": {
  "kernelspec": {
   "display_name": "Python 2",
   "language": "python",
   "name": "python2"
  },
  "language_info": {
   "codemirror_mode": {
    "name": "ipython",
    "version": 2
   },
   "file_extension": ".py",
   "mimetype": "text/x-python",
   "name": "python",
   "nbconvert_exporter": "python",
   "pygments_lexer": "ipython2",
   "version": "2.7.6"
  }
 },
 "nbformat": 4,
 "nbformat_minor": 0
}
