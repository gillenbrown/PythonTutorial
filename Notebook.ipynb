{
 "cells": [
  {
   "cell_type": "markdown",
   "metadata": {},
   "source": [
    "# Notebook Tutorial\n",
    "\n",
    "\n",
    "### TODO: add a section about using this with different languages.\n",
    "\n",
    "This will be an introduction to using Jupyter notebooks, formerly known as IPython notebooks. [Jupyter notebooks](http://jupyter.org/) are a way of combining text, code, and images/figures in an environment that runs in a web browse. It is very useful for quick computations, testing code, and developing plots. It can make things very compact, since it is possible to combine code, figures, and text about the results of the code all in one file that can be either run interactively by others or viewed online via [nbviewer](http://nbviewer.ipython.org/).\n",
    "\n",
    "Here are some key features that make it useful:\n",
    "* Interactive code that remembers history. Chunks of code can be written and run whenever, and you don't need to rewrite snippets to rerun them. This makes testing very easy and efficient.\n",
    "* Inline matplotlib plots. The plots can be displayed right in the web browser. Changes are very easy to make, since we just change the code and see our results right there. \n",
    "* Easy documentation via nice-looking text, rather than just comments. You can also add images, equations, videos, etc to make the documentation more complete than would be possible in a python file.\n",
    "* Language of choice. Python is the language that this notebook will use, but it is possible to run in many languages, including IDL, and other popular data science languages like R.\n",
    "\n",
    "This tutorial will cover the installation and startup of Jupyter notebooks, as well as their usage. By the end, you should be able to make good use of notebooks yourself.\n",
    "\n",
    "### Note\n",
    "\n",
    "Jupyter notebooks were formerly known as IPython notebooks. They are basically the same. They aren't known as that anymore due to the support for multiple languages. All the instructions for this will hold for both IPython and Jupyter notebooks.\n",
    "\n",
    "## Installing Jupyter notebooks \n",
    "\n",
    "If you already have `pip` installed (and you should, it's awesome!), Jupyter notebook installation is very easy. Just call `pip install jupyter` from the command line. This will also install any dependencies you don't have. If on linux, **do not** use your standard package manager, since it likely has a very out of date version.\n",
    "\n",
    "[Ureka](http://ssb.stsci.edu/ureka/) also includes IPython notebooks. \n",
    "\n",
    "If you have something like Anaconda or Canopy, there is a good change you already have Jupyter installed. You might want to make sure it is updated to the latest version, though.\n",
    "\n",
    "Otherwise, follow the instructions [here](http://jupyter.readthedocs.io/en/latest/install.html). \n",
    "\n",
    "## Starting Jupyter notebooks\n",
    "\n",
    "From a terminal window, simply call `jupyter notebook`. It will launch your browser, and display the file structure of the folder from which you typed the command. Navigate to wherever you want to make the notebook file, then click the new button in the top right corner. Select the language you want the notebook to be in (although Python will probably be the only option at the moment). Your window should look something like this:\n",
    "\n",
    "![Emtpy notebook](images/header.png)\n",
    "\n",
    "If it does, you are all set!\n",
    "\n",
    "### This tutorial is a notebook!\n",
    "\n",
    "Jupyter notebooks can be viewed either as a static html page (via [nbviewer](https://nbviewer.jupyter.org/)), or by interactively running them. If you are viewing this in nbviewer, try getting this tutorial to run on your machine. Go to the [GitHub page for this tutorial](https://github.com/gillenbrown/PythonTutorial) and sync it to your machine. If you have GitHub you can clone it to your desktop, or just download a .zip. Buttons for both of these options are in the bottom right of the page.\n",
    "\n",
    "Then open an Jupyter notebook instance, and click on this file (Notebook.ipnb) to open it. It should look a lot like the webpage, but be editable.\n",
    "\n",
    "If it does, then we can get to the fun stuff!\n",
    "\n",
    "## Using notebooks\n",
    "\n",
    "Jupyter notebooks are made up of what are called cells. Each cell can either be text (formatted with Markdown) or code. There can be multiple lines of code or text in each cell. To either execute the code or turn the text into display mode, press `shift+enter` . Try double clicking on this text to see the formatting for this cell, then press `shift+enter` to turn it back into display mode. To change type of each cell (text vs code), select the drop down to the right of the buttons in the toolbar and choose the type you want. The only two you will really use are code (obviously), and the Markdown choice, which lets you input text. This cell is a Markdown cell, for example.\n",
    "\n",
    "Of course, we can also run code. This code runs interactively. Press `shift+enter` to run the extremely difficult calculation in the cell below."
   ]
  },
  {
   "cell_type": "code",
   "execution_count": 1,
   "metadata": {
    "collapsed": false
   },
   "outputs": [
    {
     "data": {
      "text/plain": [
       "4"
      ]
     },
     "execution_count": 1,
     "metadata": {},
     "output_type": "execute_result"
    }
   ],
   "source": [
    "2+2"
   ]
  },
  {
   "cell_type": "markdown",
   "metadata": {},
   "source": [
    "You will see that 4 was returned in the output. We can also do more complicated stuff, including more than one line of code in the same cell. Remember that `enter` adds new lines to each cell (like it would in a text editor), but `shift+enter` runs the code in the cell."
   ]
  },
  {
   "cell_type": "code",
   "execution_count": 2,
   "metadata": {
    "collapsed": false
   },
   "outputs": [
    {
     "name": "stdout",
     "output_type": "stream",
     "text": [
      "0\n",
      "1\n",
      "2\n",
      "3\n",
      "4\n"
     ]
    },
    {
     "data": {
      "text/plain": [
       "'sum: 10'"
      ]
     },
     "execution_count": 2,
     "metadata": {},
     "output_type": "execute_result"
    }
   ],
   "source": [
    "x = 0\n",
    "for i in range(5):\n",
    "    print(i)\n",
    "    x += i\n",
    "\"sum: \" + str(x)"
   ]
  },
  {
   "cell_type": "markdown",
   "metadata": {},
   "source": [
    "What really makes notebooks shine is their ability to rerun cells. Try changing the range of the loop above, and re-running the cell. `x` changes each time, and any changes in `x` are reflected in any later calculations we wanted to do with `x`. This is so useful because we can make slight changes to our code, and see the changes. The above example isn't the best example of that, but it can be extremely useful when designing plots, for example. It's also nice because if you make a mistake, you can rerun the cell until you get it right. All your failed attempts aren't recorded in the final product, as they would be in any other interactive session."
   ]
  },
  {
   "cell_type": "code",
   "execution_count": 3,
   "metadata": {
    "collapsed": false
   },
   "outputs": [
    {
     "name": "stdout",
     "output_type": "stream",
     "text": [
      "Ptyhon is awesome!\n"
     ]
    }
   ],
   "source": [
    "print(\"Ptyhon is awesome!\")"
   ]
  },
  {
   "cell_type": "markdown",
   "metadata": {},
   "source": [
    "It's important to note that notebooks are just like running code in a terminal, in that each time a cell is run the code executes. Nothing is forgotten, but may be overwritten by the new code. For example, if you make a typo in a variable name, run the cell, then fix the mistake and rerun the cell, you will have two variables in memory (one with the typo, one without). It's not a huge deal, but is something to be aware of. If you want to reset your session, click  `Kernel -> Restart` in the top menu or hit the restart button in the toolbar (looks like an arrow going in a circle), and it will reset the python environment. All your variables will be lost, but sometimes it can be useful to start a session fresh. When you do this, you will obviously need to rerun all your cells.\n",
    "\n",
    "### Warning\n",
    "\n",
    "Be careful of running cells multiple times where varaibles aren't reset each time. In the example below, `y` isn't reset each time, so each time we run the cell it will keep increasing. Try running the second cell many times to see how this works. If we merged the two cells below, everything would be fine. You can merge cells using the edit menu in the toolbar."
   ]
  },
  {
   "cell_type": "code",
   "execution_count": 4,
   "metadata": {
    "collapsed": true
   },
   "outputs": [],
   "source": [
    "y = 0"
   ]
  },
  {
   "cell_type": "code",
   "execution_count": 5,
   "metadata": {
    "collapsed": false
   },
   "outputs": [
    {
     "data": {
      "text/plain": [
       "45"
      ]
     },
     "execution_count": 5,
     "metadata": {},
     "output_type": "execute_result"
    }
   ],
   "source": [
    "for i in range(10):\n",
    "    y += i\n",
    "y"
   ]
  },
  {
   "cell_type": "markdown",
   "metadata": {},
   "source": [
    "## Shell Integration\n",
    "\n",
    "#### This section needs work. \n",
    "\n",
    "Notebooks can also work like a normal shell environment."
   ]
  },
  {
   "cell_type": "code",
   "execution_count": 6,
   "metadata": {
    "collapsed": false
   },
   "outputs": [
    {
     "name": "stdout",
     "output_type": "stream",
     "text": [
      "Notebook.ipynb  Plotting.ipynb  README.md       foo.csv         \u001b[34mimages\u001b[m\u001b[m/\r\n"
     ]
    }
   ],
   "source": [
    "ls"
   ]
  },
  {
   "cell_type": "code",
   "execution_count": 7,
   "metadata": {
    "collapsed": false
   },
   "outputs": [
    {
     "data": {
      "text/plain": [
       "'/Users/gillenbrown/Code/PythonTutorial'"
      ]
     },
     "execution_count": 7,
     "metadata": {},
     "output_type": "execute_result"
    }
   ],
   "source": [
    "pwd"
   ]
  },
  {
   "cell_type": "markdown",
   "metadata": {},
   "source": [
    "You can also enter generic shell commands by adding `!` in front."
   ]
  },
  {
   "cell_type": "code",
   "execution_count": 8,
   "metadata": {
    "collapsed": false
   },
   "outputs": [
    {
     "name": "stdout",
     "output_type": "stream",
     "text": [
      "Python\r\n"
     ]
    }
   ],
   "source": [
    "!echo \"Python\""
   ]
  },
  {
   "cell_type": "markdown",
   "metadata": {},
   "source": [
    "Note to self for future development: Does that line above work with any astro-specific things? I would prefer to have a better example here."
   ]
  },
  {
   "cell_type": "markdown",
   "metadata": {},
   "source": [
    "You can also caputure the output from shell commands."
   ]
  },
  {
   "cell_type": "code",
   "execution_count": 9,
   "metadata": {
    "collapsed": false
   },
   "outputs": [
    {
     "name": "stdout",
     "output_type": "stream",
     "text": [
      "['.', '..', '.git', '.gitignore', '.ipynb_checkpoints', 'Notebook.ipynb', 'Plotting.ipynb', 'README.md', 'foo.csv', 'images']\n"
     ]
    }
   ],
   "source": [
    "lsl = !ls -a\n",
    "print(lsl)"
   ]
  },
  {
   "cell_type": "markdown",
   "metadata": {},
   "source": [
    "### Tips and Tricks\n",
    "\n",
    "* The number to the left of each cell indicates in which order that cell was run. Cell `1` was the first ran, Cell `2` second, etc. If you run a cell multiple times it will only show the last time it was run.\n",
    "\n",
    "* If you want to merge cells, that can be done via `Edit -> Merge Cell Above/Below` in the toolbar. You can also move cells around via `Edit -> Move Cell Up/Down`, or with the up/down buttons in the toolbar. Deleting cells can also be done from the menu, also. \n",
    "\n",
    "* If the last line in a cell has output, it will normally be printed to the screen. Adding a semicolon `;` after the last line suppresses the output. You can test that by adding `;` to the last line of any code cell above.\n",
    "\n",
    "* You can rename your notebook in the very top of the file, simply by clicking on the current name. It's Untitled by default.\n",
    "\n",
    "* There are many keyboard shortcuts for notebooks. You can definitely run a notebook without touching your mouse. You can see what they are in the Help menu in the toolbar. Some helpful ones are listed below. Note that often you have to have a cell selected by clicking to the left of it, but not editing it. The bar to the left of the cell should be blue, not green.\n",
    "  * Press `d` twice to delete the cell you have selected.\n",
    "  * `a` adds a cell above the cell you have selected, `b` adds one below.\n",
    "  * `m` turns a code cell into a Markdown cell, while `y` turns it into code.\n",
    "\n",
    "* You can run all cells in order by selecting `Cell -> Run All` in the toolbar. This is useful if you want to pick up at the end of a file when resuming work.\n",
    "\n",
    "* Tab completion is enabled, so pressing `tab` while typing will give you a list of all existing items that start with what you have typed. This includes your functions and variables and built-in functions and variables.\n",
    "\n",
    "* Related, to that, pressing `shift+tab` inside the parenthesis of a function gives you a popup with the docstring for that function, which often contains the names and descriptions of various parameters of that function.\n",
    "\n",
    "* To see the info on an object/function, run the command `help(thing_I_need_help_with)`. It will return the documentation of that item. If it's an object, it will also tell you all the functions that can be called on that object, and what they do. It's super awesome."
   ]
  },
  {
   "cell_type": "code",
   "execution_count": 10,
   "metadata": {
    "collapsed": false,
    "scrolled": false
   },
   "outputs": [
    {
     "name": "stdout",
     "output_type": "stream",
     "text": [
      "Help on int object:\n",
      "\n",
      "class int(object)\n",
      " |  int(x=0) -> integer\n",
      " |  int(x, base=10) -> integer\n",
      " |  \n",
      " |  Convert a number or string to an integer, or return 0 if no arguments\n",
      " |  are given.  If x is a number, return x.__int__().  For floating point\n",
      " |  numbers, this truncates towards zero.\n",
      " |  \n",
      " |  If x is not a number or if base is given, then x must be a string,\n",
      " |  bytes, or bytearray instance representing an integer literal in the\n",
      " |  given base.  The literal can be preceded by '+' or '-' and be surrounded\n",
      " |  by whitespace.  The base defaults to 10.  Valid bases are 0 and 2-36.\n",
      " |  Base 0 means to interpret the base from the string as an integer literal.\n",
      " |  >>> int('0b100', base=0)\n",
      " |  4\n",
      " |  \n",
      " |  Methods defined here:\n",
      " |  \n",
      " |  __abs__(self, /)\n",
      " |      abs(self)\n",
      " |  \n",
      " |  __add__(self, value, /)\n",
      " |      Return self+value.\n",
      " |  \n",
      " |  __and__(self, value, /)\n",
      " |      Return self&value.\n",
      " |  \n",
      " |  __bool__(self, /)\n",
      " |      self != 0\n",
      " |  \n",
      " |  __ceil__(...)\n",
      " |      Ceiling of an Integral returns itself.\n",
      " |  \n",
      " |  __divmod__(self, value, /)\n",
      " |      Return divmod(self, value).\n",
      " |  \n",
      " |  __eq__(self, value, /)\n",
      " |      Return self==value.\n",
      " |  \n",
      " |  __float__(self, /)\n",
      " |      float(self)\n",
      " |  \n",
      " |  __floor__(...)\n",
      " |      Flooring an Integral returns itself.\n",
      " |  \n",
      " |  __floordiv__(self, value, /)\n",
      " |      Return self//value.\n",
      " |  \n",
      " |  __format__(...)\n",
      " |      default object formatter\n",
      " |  \n",
      " |  __ge__(self, value, /)\n",
      " |      Return self>=value.\n",
      " |  \n",
      " |  __getattribute__(self, name, /)\n",
      " |      Return getattr(self, name).\n",
      " |  \n",
      " |  __getnewargs__(...)\n",
      " |  \n",
      " |  __gt__(self, value, /)\n",
      " |      Return self>value.\n",
      " |  \n",
      " |  __hash__(self, /)\n",
      " |      Return hash(self).\n",
      " |  \n",
      " |  __index__(self, /)\n",
      " |      Return self converted to an integer, if self is suitable for use as an index into a list.\n",
      " |  \n",
      " |  __int__(self, /)\n",
      " |      int(self)\n",
      " |  \n",
      " |  __invert__(self, /)\n",
      " |      ~self\n",
      " |  \n",
      " |  __le__(self, value, /)\n",
      " |      Return self<=value.\n",
      " |  \n",
      " |  __lshift__(self, value, /)\n",
      " |      Return self<<value.\n",
      " |  \n",
      " |  __lt__(self, value, /)\n",
      " |      Return self<value.\n",
      " |  \n",
      " |  __mod__(self, value, /)\n",
      " |      Return self%value.\n",
      " |  \n",
      " |  __mul__(self, value, /)\n",
      " |      Return self*value.\n",
      " |  \n",
      " |  __ne__(self, value, /)\n",
      " |      Return self!=value.\n",
      " |  \n",
      " |  __neg__(self, /)\n",
      " |      -self\n",
      " |  \n",
      " |  __new__(*args, **kwargs) from builtins.type\n",
      " |      Create and return a new object.  See help(type) for accurate signature.\n",
      " |  \n",
      " |  __or__(self, value, /)\n",
      " |      Return self|value.\n",
      " |  \n",
      " |  __pos__(self, /)\n",
      " |      +self\n",
      " |  \n",
      " |  __pow__(self, value, mod=None, /)\n",
      " |      Return pow(self, value, mod).\n",
      " |  \n",
      " |  __radd__(self, value, /)\n",
      " |      Return value+self.\n",
      " |  \n",
      " |  __rand__(self, value, /)\n",
      " |      Return value&self.\n",
      " |  \n",
      " |  __rdivmod__(self, value, /)\n",
      " |      Return divmod(value, self).\n",
      " |  \n",
      " |  __repr__(self, /)\n",
      " |      Return repr(self).\n",
      " |  \n",
      " |  __rfloordiv__(self, value, /)\n",
      " |      Return value//self.\n",
      " |  \n",
      " |  __rlshift__(self, value, /)\n",
      " |      Return value<<self.\n",
      " |  \n",
      " |  __rmod__(self, value, /)\n",
      " |      Return value%self.\n",
      " |  \n",
      " |  __rmul__(self, value, /)\n",
      " |      Return value*self.\n",
      " |  \n",
      " |  __ror__(self, value, /)\n",
      " |      Return value|self.\n",
      " |  \n",
      " |  __round__(...)\n",
      " |      Rounding an Integral returns itself.\n",
      " |      Rounding with an ndigits argument also returns an integer.\n",
      " |  \n",
      " |  __rpow__(self, value, mod=None, /)\n",
      " |      Return pow(value, self, mod).\n",
      " |  \n",
      " |  __rrshift__(self, value, /)\n",
      " |      Return value>>self.\n",
      " |  \n",
      " |  __rshift__(self, value, /)\n",
      " |      Return self>>value.\n",
      " |  \n",
      " |  __rsub__(self, value, /)\n",
      " |      Return value-self.\n",
      " |  \n",
      " |  __rtruediv__(self, value, /)\n",
      " |      Return value/self.\n",
      " |  \n",
      " |  __rxor__(self, value, /)\n",
      " |      Return value^self.\n",
      " |  \n",
      " |  __sizeof__(...)\n",
      " |      Returns size in memory, in bytes\n",
      " |  \n",
      " |  __str__(self, /)\n",
      " |      Return str(self).\n",
      " |  \n",
      " |  __sub__(self, value, /)\n",
      " |      Return self-value.\n",
      " |  \n",
      " |  __truediv__(self, value, /)\n",
      " |      Return self/value.\n",
      " |  \n",
      " |  __trunc__(...)\n",
      " |      Truncating an Integral returns itself.\n",
      " |  \n",
      " |  __xor__(self, value, /)\n",
      " |      Return self^value.\n",
      " |  \n",
      " |  bit_length(...)\n",
      " |      int.bit_length() -> int\n",
      " |      \n",
      " |      Number of bits necessary to represent self in binary.\n",
      " |      >>> bin(37)\n",
      " |      '0b100101'\n",
      " |      >>> (37).bit_length()\n",
      " |      6\n",
      " |  \n",
      " |  conjugate(...)\n",
      " |      Returns self, the complex conjugate of any int.\n",
      " |  \n",
      " |  from_bytes(...) from builtins.type\n",
      " |      int.from_bytes(bytes, byteorder, *, signed=False) -> int\n",
      " |      \n",
      " |      Return the integer represented by the given array of bytes.\n",
      " |      \n",
      " |      The bytes argument must be a bytes-like object (e.g. bytes or bytearray).\n",
      " |      \n",
      " |      The byteorder argument determines the byte order used to represent the\n",
      " |      integer.  If byteorder is 'big', the most significant byte is at the\n",
      " |      beginning of the byte array.  If byteorder is 'little', the most\n",
      " |      significant byte is at the end of the byte array.  To request the native\n",
      " |      byte order of the host system, use `sys.byteorder' as the byte order value.\n",
      " |      \n",
      " |      The signed keyword-only argument indicates whether two's complement is\n",
      " |      used to represent the integer.\n",
      " |  \n",
      " |  to_bytes(...)\n",
      " |      int.to_bytes(length, byteorder, *, signed=False) -> bytes\n",
      " |      \n",
      " |      Return an array of bytes representing an integer.\n",
      " |      \n",
      " |      The integer is represented using length bytes.  An OverflowError is\n",
      " |      raised if the integer is not representable with the given number of\n",
      " |      bytes.\n",
      " |      \n",
      " |      The byteorder argument determines the byte order used to represent the\n",
      " |      integer.  If byteorder is 'big', the most significant byte is at the\n",
      " |      beginning of the byte array.  If byteorder is 'little', the most\n",
      " |      significant byte is at the end of the byte array.  To request the native\n",
      " |      byte order of the host system, use `sys.byteorder' as the byte order value.\n",
      " |      \n",
      " |      The signed keyword-only argument determines whether two's complement is\n",
      " |      used to represent the integer.  If signed is False and a negative integer\n",
      " |      is given, an OverflowError is raised.\n",
      " |  \n",
      " |  ----------------------------------------------------------------------\n",
      " |  Data descriptors defined here:\n",
      " |  \n",
      " |  denominator\n",
      " |      the denominator of a rational number in lowest terms\n",
      " |  \n",
      " |  imag\n",
      " |      the imaginary part of a complex number\n",
      " |  \n",
      " |  numerator\n",
      " |      the numerator of a rational number in lowest terms\n",
      " |  \n",
      " |  real\n",
      " |      the real part of a complex number\n",
      "\n"
     ]
    }
   ],
   "source": [
    "i = 2\n",
    "help(i)"
   ]
  },
  {
   "cell_type": "markdown",
   "metadata": {},
   "source": [
    "* When there is a lot of output (as there was in the last cell, click on the left side of the cell to collapse/expand the output.\n",
    "\n",
    "## Plotting in Notebooks\n",
    "\n",
    "Jupyter notebooks are great for plotting, since we can make quick changes, then rerun the plot immediately to see our changes, rather than having to rerun our entire script. Another great feature is the ability to show plots inline, right in the notebook. This lets you see what the plots look like easily, allowing you to quickly make any needed changes.\n",
    "\n",
    "To do this, we need to use the command `%matplotlib inline`. This is called a magic command, and is basically a shortcut to more complicated stuff. EXPLAIN THAT BETTER. There are many other magic commands in IPython which are included in Jupyter notebooks. We'll also do the normal import of matplotlib while we're at it."
   ]
  },
  {
   "cell_type": "code",
   "execution_count": 11,
   "metadata": {
    "collapsed": false
   },
   "outputs": [],
   "source": [
    "%matplotlib inline\n",
    "import matplotlib.pyplot as plt\n",
    "import numpy as np"
   ]
  },
  {
   "cell_type": "markdown",
   "metadata": {
    "collapsed": false
   },
   "source": [
    "First let's make some simple data. The plot commands we will use take lists of x and y values, so we will make some lists to put in there. (We'll use `numpy` to make our x values since `arange` can get decimal values, unlike the default range. `np.arange` takes parameters of start, stop, and spacing)"
   ]
  },
  {
   "cell_type": "code",
   "execution_count": 12,
   "metadata": {
    "collapsed": false
   },
   "outputs": [],
   "source": [
    "xs = np.arange(0, 5, 0.5)\n",
    "y1 = [x*3 for x in xs]\n",
    "y2 = [x**2 for x in xs]\n",
    "y3 = [x for x in xs]"
   ]
  },
  {
   "cell_type": "markdown",
   "metadata": {
    "collapsed": false
   },
   "source": [
    "Now lets plot it. Remember the plotting function takes lists of x and y values."
   ]
  },
  {
   "cell_type": "code",
   "execution_count": 13,
   "metadata": {
    "collapsed": false
   },
   "outputs": [
    {
     "data": {
      "text/plain": [
       "[<matplotlib.lines.Line2D at 0x1057c7cc0>]"
      ]
     },
     "execution_count": 13,
     "metadata": {},
     "output_type": "execute_result"
    },
    {
     "data": {
      "image/png": "[encoded data removed]",
      "text/plain": [
       "<matplotlib.figure.Figure at 0x1055b2dd8>"
      ]
     },
     "metadata": {},
     "output_type": "display_data"
    }
   ],
   "source": [
    "plt.plot(xs, y1)\n",
    "plt.plot(xs, y2)\n",
    "plt.plot(xs, y3)"
   ]
  },
  {
   "cell_type": "markdown",
   "metadata": {},
   "source": [
    "That `%matplotlib inline` command we did made the plot appear right below the code as we run it. \n",
    "\n",
    "This is obviously a super simple plot, but the idea of getting plots to appear inline in a very useful one that can be used for more complicated plots.\n",
    "\n",
    "Check out the plotting tutorial for more on creating nice plots.\n",
    "\n",
    "## LaTeX style math\n",
    "\n",
    "Jupyter notebooks allow LaTeX style math (formatted with MathJax) in Markdown cells, simply by surrounding the math in `$ $`. For example, `$4x^2$` turns into $4x^2$. Surrounding in double `$$ $$` turns it into a block equation, where it is set centered on its own line. Here are some more examples. Double click on the cell to see the syntax used to make them.\n",
    "\n",
    "$$ \\int^4_2 x dx  =  \\frac{1}{2} x^2 \\bigg|^4_2 = \\frac{1}{2} \\left[ 4^2 - 2^2 \\right] = 6 $$\n",
    "\n",
    "$$ e^{i \\theta} = \\cos (\\theta) + i \\sin(\\theta) $$\n",
    "\n",
    "$$ \\nabla \\cdot \\vec{E} = \\frac{\\rho}{\\epsilon_0} $$\n",
    "\n",
    "$$ E = mc^2 $$\n",
    "\n",
    "Obviously, this can be very useful for documenting your code if it involves equations in any way. Actual math is way easier to read than code.\n",
    "\n",
    "## Converting to python file \n",
    "\n",
    "Jupyter notebooks are very useful for testing and quickly developing code. You can run the cell, make changes, run it again, make more changes, etc, until the code works the way you want it to. You may want to save that code as a regular python file, though, so you can run it by itself, rather than having to open the notebook each time. This is easy to do. From the `File` menu, mouseover `Download as`, and it will give you a bunch of options. If you download as `.py`, you will have an executable python file. Any Markdown cells will be turned to comments. Of course, since regular python files don't have cells, all the code will be in one file, and will all run at once if you run the file.\n",
    "\n",
    "## Exiting the notebook\n",
    "\n",
    "Jupyter notebooks autosave every now and then, but you'll want to hit the save button in the toolbar before leaving. You can also press `⌘s` to save. To change the name of the notebook, click on the name of the notebook at the top of the open page. Whenever you are done with a notebook, click `File -> Close and Halt`. In the tab that shows your file structure, there will be a `Running` tab on the top of that page. Shutdown any notebooks that are still active, then close the tab. Then go to the terminal in which you launched Jupyter notebook. The terminal will show a log of what Jupyter has been doing. Press `control-c` (not `⌘c`). It will ask you to confirm your exit. Enter y to do so.\n",
    "\n",
    "## Viewing the notebook online\n",
    "\n",
    "[NBViewer](https://nbviewer.jupyter.org/) is a method to show static versions of notebooks. To view a notebook on this site, you will need to host the notebook in some publicly accessible location (like GitHub, which is where these notebooks are hosted). To view a notebook here, simply paste the URL where the notebook is hosted into the home page, and it will show up. You can also search for it if its on GitHub, via your username.\n",
    "\n",
    "## Uses for Jupyter notebooks\n",
    "\n",
    "There are no right or wrong ways to use notebooks, but here are some ways I use notebooks:\n",
    "* Developing code: The ability to rerun cells makes writing code snippets easy. If there's a bug somewhere, it's easy to fix the bug and rerun only the cell it was in. \n",
    "* Making plots: The ability to rerun cells, combined with the inline plots, makes making nice-looking plots much easier than it is any other way. It's so quick to change one parameter, then rerun the plotting cell to see the changes.\n",
    "* Documenting something important: Markdown cells are an easy way to document the things you are doing, and it looks nicer than comments in a Python file. The ability to view on nbviewer also allows others to see your work without you needing to send them your files. \n",
    "\n",
    "## Other cool stuff\n",
    "\n",
    "There are a ton of things you can do with notebooks that aren't covered here. Here are links explaining some of the other stuff.\n",
    "\n",
    "* [Displaying things in a notebook, such as YouTube videos, images, real LaTeX, etc.](http://nbviewer.ipython.org/github/ipython/ipython/blob/2.x/examples/Notebook/Display%20System.ipynb)\n",
    "* [A list of a bazillion interesting notebooks.](https://github.com/ipython/ipython/wiki/A-gallery-of-interesting-IPython-Notebooks)\n",
    "* [An astro paper](http://arxiv.org/abs/1303.2690) that has reproducible data analysis via [a notebook](http://nbviewer.ipython.org/github/forero/LG_Kinematics/blob/master/code/main_analysis.ipynb). \n",
    "* The first gravitational wave detection data analysis was described in a [notebook](https://losc.ligo.org/s/events/GW150914/GW150914_tutorial.html), and it allows you to reproduce those famous plots that show the gravitational wave detection.\n",
    "\n",
    "If there are any other cool things about Jupyter notebooks to add here, let me know."
   ]
  },
  {
   "cell_type": "code",
   "execution_count": null,
   "metadata": {
    "collapsed": true
   },
   "outputs": [],
   "source": []
  }
 ],
 "metadata": {
  "kernelspec": {
   "display_name": "Python 2",
   "language": "python",
   "name": "python2"
  },
  "language_info": {
   "codemirror_mode": {
    "name": "ipython",
    "version": 2
   },
   "file_extension": ".py",
   "mimetype": "text/x-python",
   "name": "python",
   "nbconvert_exporter": "python",
   "pygments_lexer": "ipython2",
   "version": "2.7.10"
  }
 },
 "nbformat": 4,
 "nbformat_minor": 0
}
