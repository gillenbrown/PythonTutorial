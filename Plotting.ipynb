{
 "cells": [
  {
   "cell_type": "markdown",
   "metadata": {},
   "source": [
    "# Work in Progress"
   ]
  },
  {
   "cell_type": "code",
   "execution_count": 5,
   "metadata": {
    "collapsed": true
   },
   "outputs": [],
   "source": [
    "%matplotlib inline\n",
    "import matplotlib.pyplot as plt\n",
    "import numpy as np"
   ]
  },
  {
   "cell_type": "code",
   "execution_count": 7,
   "metadata": {
    "collapsed": false
   },
   "outputs": [],
   "source": [
    "xs = np.arange(0, 5, 0.5)\n",
    "y1 = [x*3 for x in xs]\n",
    "y2 = [x**2 for x in xs]\n",
    "y3 = [x for x in xs]"
   ]
  },
  {
   "cell_type": "markdown",
   "metadata": {},
   "source": [
    "This was a simple plot, and there are some many more detailed things we can do with matplotlib. The plot function can take many keyword parameters that specify all kinds of stuff about the line to be plotted. Here is a plot with a few of those more detailed options used."
   ]
  },
  {
   "cell_type": "code",
   "execution_count": 8,
   "metadata": {
    "collapsed": false
   },
   "outputs": [
    {
     "data": {
      "text/plain": [
       "<matplotlib.legend.Legend at 0x111861650>"
      ]
     },
     "execution_count": 8,
     "metadata": {},
     "output_type": "execute_result"
    },
    {
     "data": {
      "image/png": "[encoded data removed]",
      "text/plain": [
       "<matplotlib.figure.Figure at 0x10f2e72d0>"
      ]
     },
     "metadata": {},
     "output_type": "display_data"
    }
   ],
   "source": [
    "plt.plot(xs, y1, color=\"r\", linestyle=\":\", label=\"y1\")\n",
    "plt.plot(xs, y2, color=\"#0088CC\", linestyle=\"--\", linewidth=4, label=\"y2\")\n",
    "plt.plot(xs, y3, color=(0.2, 0.2, 0.2), marker=\"*\", markersize=15, alpha=0.5, label=\"y3\")\n",
    "plt.legend(loc=0)"
   ]
  },
  {
   "cell_type": "markdown",
   "metadata": {},
   "source": [
    "This obviously isn't a plot designed to look good, but rather one to explain a lot of the parameters matplotlib can take. The [documentation for the matplotlib plot function](http://matplotlib.org/api/pyplot_api.html#matplotlib.pyplot.plot) has desciptions for all the possible things, so glance through that if you are interested.\n",
    "\n",
    "* `color`: color of the points. You can specify colors directly, like `r` for red, `g` for green, `k` for black, etc. Matplotlib also knows the names for many colors, so if you ever need to plot something in chartreuse matplotlib has you covered. I'm serious, try changing one of the colors to `chartreuse`, and it will work. You can also pass in hex values, like the second line, or tuples of rgb values like the third.\n",
    "* `linestyle`: This describes the format of the lines. The defulat is solid `-`, but there is also `--` for dashed, `:` for dotted, and `-.` for dot-dash.\n",
    "* `label`: This tells what the title of each line should be in the legend.\n",
    "* `linewidth`: pretty self explanatory. The larger the number, the thicker the line.\n",
    "* `marker`: If you want to add individual points on the line, this can be used to specify the shape of the markers. There are a [bazillion options](http://matplotlib.org/api/markers_api.html#module-matplotlib.markers).\n",
    "* `markersize`: again self explanatory. The larger the markersize, the larger the marker will be.\n",
    "* `alpha`: This sets the transparency of the points or line. 1 is opaque, 0 is invisible. You can see how the gray stars are transparent, and you can see the blue line beneath. This is especially useful in scatter plots when you have lots of overlapping points. \n",
    "\n",
    "The legend is added with the simple `plt.legend()` call. The `loc=0` tells matplotlib to find the best location to put the legend. You can specify other things to put the legend in a specific place, but `loc=0` is often the most useful. [Here is the `legend()` documentation](http://matplotlib.org/api/pyplot_api.html#matplotlib.pyplot.legend), with a list of all the places you can put a legend. There are also a ton of other parameters that you can use to make a prettier legend.\n",
    "\n",
    "These are just some of the parameters. To make nice looking plots, you might need to take some time to really fine tune things. Try changing some of the parameters above, then rerun the plot to really see how your changes affect the plot. Remember that when you rerun the cell with the plotting code, you don't need to rerun the code that we used to define our lists. Things done in earlier code stay in memory. This is why IPython notebooks are so awesome. If you have to do a lot of work to do some data analysis, you don't need to do that every time you want to remake your plot.\n",
    "\n",
    "## Other types of  matplotlib plots\n",
    "\n",
    "Things to eventually add:\n",
    "* histogram\n",
    "* errorbars\n",
    "* scatter\n",
    "* colorbars\n",
    "* log plots\n",
    "* text/annotations\n",
    "* titles, labels, etc\n",
    "* setting x/y limits\n",
    "* saving plots\n",
    "* LaTeX in plots"
   ]
  },
  {
   "cell_type": "code",
   "execution_count": null,
   "metadata": {
    "collapsed": true
   },
   "outputs": [],
   "source": []
  }
 ],
 "metadata": {
  "kernelspec": {
   "display_name": "Python 2",
   "language": "python",
   "name": "python2"
  },
  "language_info": {
   "codemirror_mode": {
    "name": "ipython",
    "version": 2
   },
   "file_extension": ".py",
   "mimetype": "text/x-python",
   "name": "python",
   "nbconvert_exporter": "python",
   "pygments_lexer": "ipython2",
   "version": "2.7.6"
  }
 },
 "nbformat": 4,
 "nbformat_minor": 0
}
